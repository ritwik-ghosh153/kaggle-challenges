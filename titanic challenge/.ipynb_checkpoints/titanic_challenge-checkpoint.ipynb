{
 "cells": [
  {
   "cell_type": "code",
   "execution_count": 252,
   "metadata": {
    "collapsed": true
   },
   "outputs": [],
   "source": [
    "import pandas as pd\n",
    "import numpy as np\n",
    "import matplotlib.pyplot as plt\n",
    "import seaborn as sns\n",
    "%matplotlib inline"
   ]
  },
  {
   "cell_type": "code",
   "execution_count": 253,
   "metadata": {
    "collapsed": true
   },
   "outputs": [],
   "source": [
    "data=pd.read_csv('train.csv')"
   ]
  },
  {
   "cell_type": "code",
   "execution_count": 254,
   "metadata": {},
   "outputs": [
    {
     "data": {
      "text/html": [
       "<div>\n",
       "<style scoped>\n",
       "    .dataframe tbody tr th:only-of-type {\n",
       "        vertical-align: middle;\n",
       "    }\n",
       "\n",
       "    .dataframe tbody tr th {\n",
       "        vertical-align: top;\n",
       "    }\n",
       "\n",
       "    .dataframe thead th {\n",
       "        text-align: right;\n",
       "    }\n",
       "</style>\n",
       "<table border=\"1\" class=\"dataframe\">\n",
       "  <thead>\n",
       "    <tr style=\"text-align: right;\">\n",
       "      <th></th>\n",
       "      <th>PassengerId</th>\n",
       "      <th>Survived</th>\n",
       "      <th>Pclass</th>\n",
       "      <th>Name</th>\n",
       "      <th>Sex</th>\n",
       "      <th>Age</th>\n",
       "      <th>SibSp</th>\n",
       "      <th>Parch</th>\n",
       "      <th>Ticket</th>\n",
       "      <th>Fare</th>\n",
       "      <th>Cabin</th>\n",
       "      <th>Embarked</th>\n",
       "    </tr>\n",
       "  </thead>\n",
       "  <tbody>\n",
       "    <tr>\n",
       "      <th>0</th>\n",
       "      <td>1</td>\n",
       "      <td>0</td>\n",
       "      <td>3</td>\n",
       "      <td>Braund, Mr. Owen Harris</td>\n",
       "      <td>male</td>\n",
       "      <td>22.0</td>\n",
       "      <td>1</td>\n",
       "      <td>0</td>\n",
       "      <td>A/5 21171</td>\n",
       "      <td>7.2500</td>\n",
       "      <td>NaN</td>\n",
       "      <td>S</td>\n",
       "    </tr>\n",
       "    <tr>\n",
       "      <th>1</th>\n",
       "      <td>2</td>\n",
       "      <td>1</td>\n",
       "      <td>1</td>\n",
       "      <td>Cumings, Mrs. John Bradley (Florence Briggs Th...</td>\n",
       "      <td>female</td>\n",
       "      <td>38.0</td>\n",
       "      <td>1</td>\n",
       "      <td>0</td>\n",
       "      <td>PC 17599</td>\n",
       "      <td>71.2833</td>\n",
       "      <td>C85</td>\n",
       "      <td>C</td>\n",
       "    </tr>\n",
       "    <tr>\n",
       "      <th>2</th>\n",
       "      <td>3</td>\n",
       "      <td>1</td>\n",
       "      <td>3</td>\n",
       "      <td>Heikkinen, Miss. Laina</td>\n",
       "      <td>female</td>\n",
       "      <td>26.0</td>\n",
       "      <td>0</td>\n",
       "      <td>0</td>\n",
       "      <td>STON/O2. 3101282</td>\n",
       "      <td>7.9250</td>\n",
       "      <td>NaN</td>\n",
       "      <td>S</td>\n",
       "    </tr>\n",
       "    <tr>\n",
       "      <th>3</th>\n",
       "      <td>4</td>\n",
       "      <td>1</td>\n",
       "      <td>1</td>\n",
       "      <td>Futrelle, Mrs. Jacques Heath (Lily May Peel)</td>\n",
       "      <td>female</td>\n",
       "      <td>35.0</td>\n",
       "      <td>1</td>\n",
       "      <td>0</td>\n",
       "      <td>113803</td>\n",
       "      <td>53.1000</td>\n",
       "      <td>C123</td>\n",
       "      <td>S</td>\n",
       "    </tr>\n",
       "    <tr>\n",
       "      <th>4</th>\n",
       "      <td>5</td>\n",
       "      <td>0</td>\n",
       "      <td>3</td>\n",
       "      <td>Allen, Mr. William Henry</td>\n",
       "      <td>male</td>\n",
       "      <td>35.0</td>\n",
       "      <td>0</td>\n",
       "      <td>0</td>\n",
       "      <td>373450</td>\n",
       "      <td>8.0500</td>\n",
       "      <td>NaN</td>\n",
       "      <td>S</td>\n",
       "    </tr>\n",
       "  </tbody>\n",
       "</table>\n",
       "</div>"
      ],
      "text/plain": [
       "   PassengerId  Survived  Pclass  \\\n",
       "0            1         0       3   \n",
       "1            2         1       1   \n",
       "2            3         1       3   \n",
       "3            4         1       1   \n",
       "4            5         0       3   \n",
       "\n",
       "                                                Name     Sex   Age  SibSp  \\\n",
       "0                            Braund, Mr. Owen Harris    male  22.0      1   \n",
       "1  Cumings, Mrs. John Bradley (Florence Briggs Th...  female  38.0      1   \n",
       "2                             Heikkinen, Miss. Laina  female  26.0      0   \n",
       "3       Futrelle, Mrs. Jacques Heath (Lily May Peel)  female  35.0      1   \n",
       "4                           Allen, Mr. William Henry    male  35.0      0   \n",
       "\n",
       "   Parch            Ticket     Fare Cabin Embarked  \n",
       "0      0         A/5 21171   7.2500   NaN        S  \n",
       "1      0          PC 17599  71.2833   C85        C  \n",
       "2      0  STON/O2. 3101282   7.9250   NaN        S  \n",
       "3      0            113803  53.1000  C123        S  \n",
       "4      0            373450   8.0500   NaN        S  "
      ]
     },
     "execution_count": 254,
     "metadata": {},
     "output_type": "execute_result"
    }
   ],
   "source": [
    "data.head()"
   ]
  },
  {
   "cell_type": "code",
   "execution_count": 255,
   "metadata": {
    "collapsed": true
   },
   "outputs": [],
   "source": [
    "data=data.drop(columns='Cabin')"
   ]
  },
  {
   "cell_type": "code",
   "execution_count": 258,
   "metadata": {},
   "outputs": [
    {
     "data": {
      "text/plain": [
       "28.0"
      ]
     },
     "execution_count": 258,
     "metadata": {},
     "output_type": "execute_result"
    }
   ],
   "source": [
    "mean_age=data['Age'].median()\n",
    "mean_age"
   ]
  },
  {
   "cell_type": "code",
   "execution_count": 259,
   "metadata": {},
   "outputs": [],
   "source": [
    "data['Age']=data['Age'].replace(np.nan,mean_age)"
   ]
  },
  {
   "cell_type": "code",
   "execution_count": 260,
   "metadata": {
    "collapsed": true
   },
   "outputs": [],
   "source": [
    "data=data.dropna()"
   ]
  },
  {
   "cell_type": "code",
   "execution_count": 261,
   "metadata": {},
   "outputs": [
    {
     "data": {
      "text/plain": [
       "889"
      ]
     },
     "execution_count": 261,
     "metadata": {},
     "output_type": "execute_result"
    }
   ],
   "source": [
    "len(data)"
   ]
  },
  {
   "cell_type": "code",
   "execution_count": 262,
   "metadata": {
    "collapsed": true
   },
   "outputs": [],
   "source": [
    "X=data[['Pclass','Sex','Age','Fare','SibSp','Parch','Embarked']]\n",
    "Y=data['Survived']"
   ]
  },
  {
   "cell_type": "code",
   "execution_count": 263,
   "metadata": {
    "collapsed": true
   },
   "outputs": [],
   "source": [
    "from sklearn.preprocessing import StandardScaler\n",
    "scaler=StandardScaler()"
   ]
  },
  {
   "cell_type": "code",
   "execution_count": 264,
   "metadata": {
    "collapsed": true
   },
   "outputs": [],
   "source": [
    "num=X[['Age','Fare']]"
   ]
  },
  {
   "cell_type": "code",
   "execution_count": 265,
   "metadata": {},
   "outputs": [
    {
     "data": {
      "text/plain": [
       "array([ 0.38623105,  1.37137004,  2.55353683, -0.20485235, -0.59890794,\n",
       "       -1.2293969 ,  0.03158101, -0.28366347, -0.91415242, -0.67771906,\n",
       "       -0.20485235,  1.29255892, -0.52009683,  2.63234795,  1.37137004,\n",
       "       -0.44128571,  0.42563661, -0.67771906, -0.20485235,  1.2137478 ,\n",
       "        2.001859  , -1.6234525 , -0.20485235, -0.67771906,  1.45018116,\n",
       "        1.6078034 , -0.59890794, -0.55950239,  0.89850332, -0.20485235,\n",
       "        1.6078034 , -0.44128571,  0.26801437, -0.20485235,  0.03158101,\n",
       "       -0.87474686, -0.20485235, -0.67771906, -0.36247459, -0.20485235,\n",
       "        0.74088109, -0.20485235,  0.89850332,  0.03158101,  1.2137478 ,\n",
       "       -0.36247459,  1.2137478 , -0.20485235,  2.39591459,  0.50444773,\n",
       "       -0.44128571, -0.20485235, -0.75653018, -0.12604123, -0.20485235,\n",
       "       -1.54464138,  0.42563661, -0.36247459, -0.20485235,  0.50444773,\n",
       "       -0.99296354,  0.18920325, -0.91415242, -0.59890794, -1.30820802,\n",
       "       -0.20485235, -0.91415242,  1.37137004,  0.11039213,  2.39591459,\n",
       "       -0.44128571, -0.67771906, -0.04723011, -0.08663567,  0.42563661,\n",
       "        0.22860881, -0.20485235,  2.001859  ,  0.03158101, -0.44128571,\n",
       "       -1.85988586,  2.94759243,  1.52899228, -0.20485235, -0.20485235,\n",
       "       -0.20485235, -0.20485235, -0.91415242, -0.20485235, -2.17513033,\n",
       "       -0.59890794, -0.20485235, -0.20485235, -0.20485235, -0.36247459,\n",
       "       -0.36247459,  3.65689251, -0.04723011, -0.75653018,  0.26801437,\n",
       "        1.05612556, -0.20485235, -0.20485235, -0.28366347, -1.07177466,\n",
       "       -0.12604123, -0.67771906, -0.20485235, -0.20485235, -0.87474686,\n",
       "        0.89850332, -0.20485235,  0.50444773, -0.87474686,  2.63234795,\n",
       "       -0.91415242, -0.20485235, -2.25394145,  0.50444773, -0.04723011,\n",
       "       -1.38701914, -0.20485235,  0.42563661, -0.12604123, -0.20485235,\n",
       "       -0.99296354, -0.59890794, -0.20485235,  0.97731444, -0.44128571,\n",
       "        0.18920325,  1.84423676, -0.20485235, -0.20485235,  1.05612556,\n",
       "       -0.44128571, -0.24425791, -0.28366347, -0.52009683,  0.81969221,\n",
       "       -1.54464138,  0.26801437,  2.47472571, -0.12604123,  0.97731444,\n",
       "        0.11039213, -0.20485235, -0.59890794, -0.20485235,  0.03158101,\n",
       "       -0.52009683, -0.20485235,  2.43532015,  0.50444773, -1.30820802,\n",
       "       -0.44128571, -0.04723011, -0.52009683,  0.97731444, -0.28366347,\n",
       "       -0.20485235, -1.78107474, -0.28366347, -0.20485235,  0.89850332,\n",
       "       -0.28366347,  1.45018116, -0.91415242, -0.20485235, -0.59890794,\n",
       "       -0.20485235, -0.20485235, -0.52009683, -0.20485235,  0.81969221,\n",
       "       -1.15058578, -0.75653018,  1.92304788,  0.50444773,  2.71115907,\n",
       "        0.03158101,  0.58325885, -0.91415242, -0.20485235, -0.20485235,\n",
       "        0.81969221, -0.67771906, -0.99296354, -0.20485235,  0.81969221,\n",
       "        0.34682549, -0.20485235, -1.4264247 ,  2.47472571, -1.70226362,\n",
       "        0.26801437, -1.85988586, -0.91415242, -0.52009683, -0.20485235,\n",
       "       -0.20485235, -2.3067449 ,  1.37137004, -1.70226362, -0.36247459,\n",
       "       -0.20485235,  0.42563661, -0.44128571,  0.26801437, -0.36247459,\n",
       "        0.18920325, -0.20485235, -0.99296354,  2.39591459,  0.66206997,\n",
       "        0.97731444, -0.20485235,  2.15948124,  1.6078034 , -0.20485235,\n",
       "        0.03158101, -0.67771906, -0.59890794, -0.67771906,  1.84423676,\n",
       "       -0.20485235, -0.52009683, -0.20485235,  0.85909776,  0.50444773,\n",
       "       -1.2293969 , -0.67771906, -0.67771906, -0.20485235,  0.74088109,\n",
       "       -0.75653018,  2.71115907, -0.75653018, -0.91415242,  1.45018116,\n",
       "        2.001859  ,  1.2137478 ,  1.2137478 , -0.20485235, -0.20485235,\n",
       "        0.89850332, -0.59890794,  0.97731444, -0.04723011, -0.20485235,\n",
       "       -2.26024634, -0.75653018, -0.20485235, -0.44128571,  0.22860881,\n",
       "       -0.20485235, -0.20485235, -0.12604123, -0.8353413 , -0.67771906,\n",
       "        0.54385329, -0.67771906, -0.04723011, -2.25394145,  0.03158101,\n",
       "       -0.20485235, -0.20485235, -0.20485235, -0.20485235, -0.99296354,\n",
       "        1.29255892, -0.20485235, -0.28366347, -0.20485235, -0.20485235,\n",
       "       -0.75653018, -0.12604123,  0.81969221,  0.03158101, -0.59890794,\n",
       "       -0.52009683, -2.27364423, -0.20485235, -1.6234525 , -2.17513033,\n",
       "        0.50444773, -0.20485235, -0.44128571, -0.20485235, -0.20485235,\n",
       "       -0.20485235,  0.03158101, -0.20485235,  1.84423676,  0.50444773,\n",
       "       -0.28366347, -2.25394145, -0.20485235,  0.03158101, -0.04723011,\n",
       "        0.18920325, -0.20485235,  1.05612556, -0.44128571, -0.20485235,\n",
       "        2.71115907,  0.03158101, -2.26733934,  2.001859  ,  1.2137478 ,\n",
       "       -0.91415242, -0.59890794, -0.20485235,  0.58325885,  2.001859  ,\n",
       "       -0.99296354,  2.15948124, -0.8353413 , -0.20485235, -0.59890794,\n",
       "       -0.28366347, -0.36247459, -0.28366347,  0.26801437,  0.74088109,\n",
       "       -0.52009683, -1.38701914,  1.29255892, -0.04723011, -0.67771906,\n",
       "        1.45018116,  0.74088109, -0.20485235, -0.8353413 , -0.20485235,\n",
       "        0.03158101,  0.18920325,  0.74088109, -0.36247459, -0.20485235,\n",
       "       -0.91415242,  0.18920325, -0.20485235,  2.23829236, -0.20485235,\n",
       "       -1.07177466, -0.28366347,  0.66206997, -0.44128571,  0.11039213,\n",
       "        1.2137478 , -0.36247459, -0.91415242,  1.52899228, -2.31935468,\n",
       "        1.6078034 ,  2.31710347, -0.20485235, -0.20485235,  0.03158101,\n",
       "       -1.18999134, -0.44128571,  0.11039213, -0.20485235, -0.36247459,\n",
       "       -0.20485235, -0.20485235, -0.59890794,  1.2137478 , -0.04723011,\n",
       "       -0.67771906,  0.11039213,  1.52899228,  1.13493668,  1.92304788,\n",
       "        1.2137478 , -0.59890794, -0.67771906,  2.001859  , -1.93869698,\n",
       "       -0.20485235, -0.28366347, -0.20485235, -0.8353413 , -0.20485235,\n",
       "       -0.44128571, -0.44128571,  2.15948124, -0.67771906, -1.85988586,\n",
       "       -0.52009683,  1.68661452, -1.30820802,  1.37137004, -0.04723011,\n",
       "       -0.91415242, -0.44128571,  1.45018116, -0.59890794,  0.11039213,\n",
       "        0.03158101,  0.66206997, -0.59890794, -0.99296354,  1.05612556,\n",
       "       -0.75653018, -0.52009683,  1.6078034 , -0.20485235, -2.09631921,\n",
       "       -0.20485235,  0.58325885, -0.12604123, -0.20485235,  0.74088109,\n",
       "        0.70147553, -0.20485235, -0.20485235])"
      ]
     },
     "execution_count": 265,
     "metadata": {},
     "output_type": "execute_result"
    }
   ],
   "source": [
    "b[:,0]"
   ]
  },
  {
   "cell_type": "code",
   "execution_count": 266,
   "metadata": {
    "collapsed": true
   },
   "outputs": [],
   "source": [
    "b=scaler.fit_transform(num)"
   ]
  },
  {
   "cell_type": "code",
   "execution_count": 267,
   "metadata": {},
   "outputs": [
    {
     "data": {
      "text/plain": [
       "889"
      ]
     },
     "execution_count": 267,
     "metadata": {},
     "output_type": "execute_result"
    }
   ],
   "source": [
    "len(b[:,0])"
   ]
  },
  {
   "cell_type": "code",
   "execution_count": 268,
   "metadata": {},
   "outputs": [
    {
     "name": "stderr",
     "output_type": "stream",
     "text": [
      "/Users/ritwikghosh/anaconda/lib/python3.5/site-packages/ipykernel/__main__.py:1: SettingWithCopyWarning: \n",
      "A value is trying to be set on a copy of a slice from a DataFrame.\n",
      "Try using .loc[row_indexer,col_indexer] = value instead\n",
      "\n",
      "See the caveats in the documentation: http://pandas.pydata.org/pandas-docs/stable/indexing.html#indexing-view-versus-copy\n",
      "  if __name__ == '__main__':\n"
     ]
    }
   ],
   "source": [
    "X['Age']=b[:,0]"
   ]
  },
  {
   "cell_type": "code",
   "execution_count": 269,
   "metadata": {},
   "outputs": [
    {
     "name": "stderr",
     "output_type": "stream",
     "text": [
      "/Users/ritwikghosh/anaconda/lib/python3.5/site-packages/ipykernel/__main__.py:1: SettingWithCopyWarning: \n",
      "A value is trying to be set on a copy of a slice from a DataFrame.\n",
      "Try using .loc[row_indexer,col_indexer] = value instead\n",
      "\n",
      "See the caveats in the documentation: http://pandas.pydata.org/pandas-docs/stable/indexing.html#indexing-view-versus-copy\n",
      "  if __name__ == '__main__':\n"
     ]
    }
   ],
   "source": [
    "X['Fare']=b[:,1]"
   ]
  },
  {
   "cell_type": "code",
   "execution_count": 270,
   "metadata": {},
   "outputs": [
    {
     "data": {
      "text/plain": [
       "0     -0.563674\n",
       "1      0.669217\n",
       "2     -0.255451\n",
       "3      0.438050\n",
       "4      0.438050\n",
       "5     -0.101340\n",
       "6      1.902108\n",
       "7     -2.104788\n",
       "8     -0.178396\n",
       "9     -1.180120\n",
       "10    -1.950676\n",
       "11     2.210331\n",
       "12    -0.717785\n",
       "13     0.746273\n",
       "14    -1.180120\n",
       "15     1.979164\n",
       "16    -2.104788\n",
       "17    -0.101340\n",
       "18     0.129827\n",
       "19    -0.101340\n",
       "20     0.438050\n",
       "21     0.360994\n",
       "22    -1.103064\n",
       "23    -0.101340\n",
       "24    -1.642454\n",
       "25     0.669217\n",
       "26    -0.101340\n",
       "27    -0.794841\n",
       "28    -0.101340\n",
       "29    -0.101340\n",
       "         ...   \n",
       "861   -0.640730\n",
       "862    1.439774\n",
       "863   -0.101340\n",
       "864   -0.409563\n",
       "865    0.977440\n",
       "866   -0.178396\n",
       "867    0.129827\n",
       "868   -0.101340\n",
       "869   -1.950676\n",
       "870   -0.255451\n",
       "871    1.362718\n",
       "872    0.283939\n",
       "873    1.362718\n",
       "874   -0.101340\n",
       "875   -1.103064\n",
       "876   -0.717785\n",
       "877   -0.794841\n",
       "878   -0.101340\n",
       "879    2.056219\n",
       "880   -0.332507\n",
       "881    0.283939\n",
       "882   -0.563674\n",
       "883   -0.101340\n",
       "884   -0.332507\n",
       "885    0.746273\n",
       "886   -0.178396\n",
       "887   -0.794841\n",
       "888   -0.101340\n",
       "889   -0.255451\n",
       "890    0.206883\n",
       "Name: Age, Length: 889, dtype: float64"
      ]
     },
     "execution_count": 270,
     "metadata": {},
     "output_type": "execute_result"
    }
   ],
   "source": [
    "X['Age']"
   ]
  },
  {
   "cell_type": "code",
   "execution_count": 271,
   "metadata": {
    "collapsed": true
   },
   "outputs": [],
   "source": [
    "X=X.astype({'Pclass':'category','Sex':'category','SibSp':'category','Parch':'category','Embarked':'category','Age':'float','Fare': 'float'})"
   ]
  },
  {
   "cell_type": "code",
   "execution_count": 272,
   "metadata": {
    "collapsed": true
   },
   "outputs": [],
   "source": [
    "X['Sex']=X['Sex'].replace('male',0)\n",
    "X['Sex']=X['Sex'].replace('female',1)\n",
    "X['Embarked']=X['Embarked'].replace('S',0)\n",
    "X['Embarked']=X['Embarked'].replace('C',1)\n",
    "X['Embarked']=X['Embarked'].replace('Q',2)"
   ]
  },
  {
   "cell_type": "code",
   "execution_count": 273,
   "metadata": {},
   "outputs": [
    {
     "data": {
      "text/html": [
       "<div>\n",
       "<style scoped>\n",
       "    .dataframe tbody tr th:only-of-type {\n",
       "        vertical-align: middle;\n",
       "    }\n",
       "\n",
       "    .dataframe tbody tr th {\n",
       "        vertical-align: top;\n",
       "    }\n",
       "\n",
       "    .dataframe thead th {\n",
       "        text-align: right;\n",
       "    }\n",
       "</style>\n",
       "<table border=\"1\" class=\"dataframe\">\n",
       "  <thead>\n",
       "    <tr style=\"text-align: right;\">\n",
       "      <th></th>\n",
       "      <th>Pclass</th>\n",
       "      <th>Sex</th>\n",
       "      <th>Age</th>\n",
       "      <th>Fare</th>\n",
       "      <th>SibSp</th>\n",
       "      <th>Parch</th>\n",
       "      <th>Embarked</th>\n",
       "    </tr>\n",
       "  </thead>\n",
       "  <tbody>\n",
       "    <tr>\n",
       "      <th>0</th>\n",
       "      <td>3</td>\n",
       "      <td>0</td>\n",
       "      <td>-0.563674</td>\n",
       "      <td>-0.500240</td>\n",
       "      <td>1</td>\n",
       "      <td>0</td>\n",
       "      <td>0</td>\n",
       "    </tr>\n",
       "    <tr>\n",
       "      <th>1</th>\n",
       "      <td>1</td>\n",
       "      <td>1</td>\n",
       "      <td>0.669217</td>\n",
       "      <td>0.788947</td>\n",
       "      <td>1</td>\n",
       "      <td>0</td>\n",
       "      <td>1</td>\n",
       "    </tr>\n",
       "    <tr>\n",
       "      <th>2</th>\n",
       "      <td>3</td>\n",
       "      <td>1</td>\n",
       "      <td>-0.255451</td>\n",
       "      <td>-0.486650</td>\n",
       "      <td>0</td>\n",
       "      <td>0</td>\n",
       "      <td>0</td>\n",
       "    </tr>\n",
       "    <tr>\n",
       "      <th>3</th>\n",
       "      <td>1</td>\n",
       "      <td>1</td>\n",
       "      <td>0.438050</td>\n",
       "      <td>0.422861</td>\n",
       "      <td>1</td>\n",
       "      <td>0</td>\n",
       "      <td>0</td>\n",
       "    </tr>\n",
       "    <tr>\n",
       "      <th>4</th>\n",
       "      <td>3</td>\n",
       "      <td>0</td>\n",
       "      <td>0.438050</td>\n",
       "      <td>-0.484133</td>\n",
       "      <td>0</td>\n",
       "      <td>0</td>\n",
       "      <td>0</td>\n",
       "    </tr>\n",
       "  </tbody>\n",
       "</table>\n",
       "</div>"
      ],
      "text/plain": [
       "  Pclass  Sex       Age      Fare SibSp Parch  Embarked\n",
       "0      3    0 -0.563674 -0.500240     1     0         0\n",
       "1      1    1  0.669217  0.788947     1     0         1\n",
       "2      3    1 -0.255451 -0.486650     0     0         0\n",
       "3      1    1  0.438050  0.422861     1     0         0\n",
       "4      3    0  0.438050 -0.484133     0     0         0"
      ]
     },
     "execution_count": 273,
     "metadata": {},
     "output_type": "execute_result"
    }
   ],
   "source": [
    "X.head()"
   ]
  },
  {
   "cell_type": "code",
   "execution_count": 274,
   "metadata": {
    "collapsed": true
   },
   "outputs": [],
   "source": [
    "from sklearn.model_selection import train_test_split\n",
    "X_train, X_test, y_train, y_test=train_test_split(X,Y,test_size=0.2, random_state=1)"
   ]
  },
  {
   "cell_type": "code",
   "execution_count": 275,
   "metadata": {
    "collapsed": true
   },
   "outputs": [],
   "source": [
    "from sklearn.tree import DecisionTreeClassifier\n",
    "clf=DecisionTreeClassifier()"
   ]
  },
  {
   "cell_type": "code",
   "execution_count": 304,
   "metadata": {},
   "outputs": [
    {
     "data": {
      "text/plain": [
       "DecisionTreeClassifier(ccp_alpha=0.0, class_weight=None, criterion='gini',\n",
       "                       max_depth=None, max_features=None, max_leaf_nodes=None,\n",
       "                       min_impurity_decrease=0.0, min_impurity_split=None,\n",
       "                       min_samples_leaf=1, min_samples_split=2,\n",
       "                       min_weight_fraction_leaf=0.0, presort='deprecated',\n",
       "                       random_state=None, splitter='best')"
      ]
     },
     "execution_count": 304,
     "metadata": {},
     "output_type": "execute_result"
    }
   ],
   "source": [
    "clf.fit(X_train, y_train)"
   ]
  },
  {
   "cell_type": "code",
   "execution_count": 305,
   "metadata": {
    "collapsed": true
   },
   "outputs": [],
   "source": [
    "y_pred=clf.predict(X_test)"
   ]
  },
  {
   "cell_type": "code",
   "execution_count": 306,
   "metadata": {},
   "outputs": [
    {
     "data": {
      "text/plain": [
       "0.797752808988764"
      ]
     },
     "execution_count": 306,
     "metadata": {},
     "output_type": "execute_result"
    }
   ],
   "source": [
    "from sklearn.metrics import accuracy_score\n",
    "accuracy_score(y_test,y_pred)"
   ]
  },
  {
   "cell_type": "markdown",
   "metadata": {},
   "source": [
    "# Iterating hyperparameters"
   ]
  },
  {
   "cell_type": "code",
   "execution_count": 307,
   "metadata": {
    "collapsed": true
   },
   "outputs": [],
   "source": [
    "param_dict={\n",
    "    \"criterion\" : [\"gini\",\"entropy\"],\n",
    "    \"max_depth\" : [1,2,3,4,5,6,7,8,9,10,11,12,13,14,15,16,17,18,19,None],\n",
    "    \"max_features\" : [\"auto\",\"sqrt\",\"log2\",None],\n",
    "    \"min_samples_leaf\" : [1,2,3,4,5,6,7,8,9,10,11,12,13,14,15,16,17,18,19,None],\n",
    "    \"min_samples_split\" : [1,2,3,4,5,6,7,8,9,10,11,12,13,14,15,16,17,18,19,None]\n",
    "}"
   ]
  },
  {
   "cell_type": "code",
   "execution_count": 308,
   "metadata": {
    "collapsed": true
   },
   "outputs": [],
   "source": [
    "from sklearn.model_selection import GridSearchCV\n",
    "grid=GridSearchCV(clf, param_grid=param_dict, cv=10, n_jobs=-1)"
   ]
  },
  {
   "cell_type": "code",
   "execution_count": 309,
   "metadata": {},
   "outputs": [
    {
     "data": {
      "text/plain": [
       "GridSearchCV(cv=10, error_score=nan,\n",
       "             estimator=DecisionTreeClassifier(ccp_alpha=0.0, class_weight=None,\n",
       "                                              criterion='gini', max_depth=None,\n",
       "                                              max_features=None,\n",
       "                                              max_leaf_nodes=None,\n",
       "                                              min_impurity_decrease=0.0,\n",
       "                                              min_impurity_split=None,\n",
       "                                              min_samples_leaf=1,\n",
       "                                              min_samples_split=2,\n",
       "                                              min_weight_fraction_leaf=0.0,\n",
       "                                              presort='deprecated',\n",
       "                                              random_state=None,\n",
       "                                              splitter='best'),\n",
       "             iid='d...\n",
       "             param_grid={'criterion': ['gini', 'entropy'],\n",
       "                         'max_depth': [1, 2, 3, 4, 5, 6, 7, 8, 9, 10, 11, 12,\n",
       "                                       13, 14, 15, 16, 17, 18, 19, None],\n",
       "                         'max_features': ['auto', 'sqrt', 'log2', None],\n",
       "                         'min_samples_leaf': [1, 2, 3, 4, 5, 6, 7, 8, 9, 10, 11,\n",
       "                                              12, 13, 14, 15, 16, 17, 18, 19,\n",
       "                                              None],\n",
       "                         'min_samples_split': [1, 2, 3, 4, 5, 6, 7, 8, 9, 10,\n",
       "                                               11, 12, 13, 14, 15, 16, 17, 18,\n",
       "                                               19, None]},\n",
       "             pre_dispatch='2*n_jobs', refit=True, return_train_score=False,\n",
       "             scoring=None, verbose=0)"
      ]
     },
     "execution_count": 309,
     "metadata": {},
     "output_type": "execute_result"
    }
   ],
   "source": [
    "grid.fit(X_train, y_train)"
   ]
  },
  {
   "cell_type": "code",
   "execution_count": 310,
   "metadata": {},
   "outputs": [
    {
     "data": {
      "text/plain": [
       "0.8396322378716745"
      ]
     },
     "execution_count": 310,
     "metadata": {},
     "output_type": "execute_result"
    }
   ],
   "source": [
    "grid.best_score_"
   ]
  },
  {
   "cell_type": "code",
   "execution_count": 311,
   "metadata": {},
   "outputs": [
    {
     "data": {
      "text/plain": [
       "DecisionTreeClassifier(ccp_alpha=0.0, class_weight=None, criterion='entropy',\n",
       "                       max_depth=13, max_features=None, max_leaf_nodes=None,\n",
       "                       min_impurity_decrease=0.0, min_impurity_split=None,\n",
       "                       min_samples_leaf=3, min_samples_split=13,\n",
       "                       min_weight_fraction_leaf=0.0, presort='deprecated',\n",
       "                       random_state=None, splitter='best')"
      ]
     },
     "execution_count": 311,
     "metadata": {},
     "output_type": "execute_result"
    }
   ],
   "source": [
    "grid.best_estimator_"
   ]
  },
  {
   "cell_type": "markdown",
   "metadata": {},
   "source": [
    "# using entire dataset"
   ]
  },
  {
   "cell_type": "code",
   "execution_count": 312,
   "metadata": {
    "collapsed": true
   },
   "outputs": [],
   "source": [
    "from sklearn.model_selection import GridSearchCV\n",
    "grid=GridSearchCV(clf, param_grid=param_dict, cv=10, n_jobs=-1)"
   ]
  },
  {
   "cell_type": "code",
   "execution_count": 313,
   "metadata": {},
   "outputs": [
    {
     "data": {
      "text/plain": [
       "GridSearchCV(cv=10, error_score=nan,\n",
       "             estimator=DecisionTreeClassifier(ccp_alpha=0.0, class_weight=None,\n",
       "                                              criterion='gini', max_depth=None,\n",
       "                                              max_features=None,\n",
       "                                              max_leaf_nodes=None,\n",
       "                                              min_impurity_decrease=0.0,\n",
       "                                              min_impurity_split=None,\n",
       "                                              min_samples_leaf=1,\n",
       "                                              min_samples_split=2,\n",
       "                                              min_weight_fraction_leaf=0.0,\n",
       "                                              presort='deprecated',\n",
       "                                              random_state=None,\n",
       "                                              splitter='best'),\n",
       "             iid='d...\n",
       "             param_grid={'criterion': ['gini', 'entropy'],\n",
       "                         'max_depth': [1, 2, 3, 4, 5, 6, 7, 8, 9, 10, 11, 12,\n",
       "                                       13, 14, 15, 16, 17, 18, 19, None],\n",
       "                         'max_features': ['auto', 'sqrt', 'log2', None],\n",
       "                         'min_samples_leaf': [1, 2, 3, 4, 5, 6, 7, 8, 9, 10, 11,\n",
       "                                              12, 13, 14, 15, 16, 17, 18, 19,\n",
       "                                              None],\n",
       "                         'min_samples_split': [1, 2, 3, 4, 5, 6, 7, 8, 9, 10,\n",
       "                                               11, 12, 13, 14, 15, 16, 17, 18,\n",
       "                                               19, None]},\n",
       "             pre_dispatch='2*n_jobs', refit=True, return_train_score=False,\n",
       "             scoring=None, verbose=0)"
      ]
     },
     "execution_count": 313,
     "metadata": {},
     "output_type": "execute_result"
    }
   ],
   "source": [
    "grid.fit(X,Y)"
   ]
  },
  {
   "cell_type": "code",
   "execution_count": 314,
   "metadata": {},
   "outputs": [
    {
     "data": {
      "text/plain": [
       "0.8346271705822266"
      ]
     },
     "execution_count": 314,
     "metadata": {},
     "output_type": "execute_result"
    }
   ],
   "source": [
    "grid.best_score_"
   ]
  },
  {
   "cell_type": "code",
   "execution_count": 315,
   "metadata": {},
   "outputs": [
    {
     "data": {
      "text/plain": [
       "DecisionTreeClassifier(ccp_alpha=0.0, class_weight=None, criterion='gini',\n",
       "                       max_depth=9, max_features='auto', max_leaf_nodes=None,\n",
       "                       min_impurity_decrease=0.0, min_impurity_split=None,\n",
       "                       min_samples_leaf=6, min_samples_split=6,\n",
       "                       min_weight_fraction_leaf=0.0, presort='deprecated',\n",
       "                       random_state=None, splitter='best')"
      ]
     },
     "execution_count": 315,
     "metadata": {},
     "output_type": "execute_result"
    }
   ],
   "source": [
    "grid.best_estimator_"
   ]
  },
  {
   "cell_type": "markdown",
   "metadata": {},
   "source": [
    "# using estimators"
   ]
  },
  {
   "cell_type": "code",
   "execution_count": 229,
   "metadata": {
    "collapsed": true
   },
   "outputs": [],
   "source": [
    "clf1=DecisionTreeClassifier(ccp_alpha=0.0, class_weight=None, criterion='entropy',\n",
    "                       max_depth=13, max_features=None, max_leaf_nodes=None,\n",
    "                       min_impurity_decrease=0.0, min_impurity_split=None,\n",
    "                       min_samples_leaf=3, min_samples_split=13,\n",
    "                       min_weight_fraction_leaf=0.0, presort='deprecated',\n",
    "                       random_state=None, splitter='best')"
   ]
  },
  {
   "cell_type": "code",
   "execution_count": 136,
   "metadata": {
    "collapsed": true
   },
   "outputs": [],
   "source": [
    "clf2=DecisionTreeClassifier(ccp_alpha=0.0, class_weight=None, criterion='gini',\n",
    "                       max_depth=9, max_features='auto', max_leaf_nodes=None,\n",
    "                       min_impurity_decrease=0.0, min_impurity_split=None,\n",
    "                       min_samples_leaf=6, min_samples_split=6,\n",
    "                       min_weight_fraction_leaf=0.0, presort='deprecated',\n",
    "                       random_state=None, splitter='best')"
   ]
  },
  {
   "cell_type": "code",
   "execution_count": 434,
   "metadata": {},
   "outputs": [
    {
     "data": {
      "text/plain": [
       "DecisionTreeClassifier(ccp_alpha=0.0, class_weight=None, criterion='gini',\n",
       "                       max_depth=8, max_features=None, max_leaf_nodes=None,\n",
       "                       min_impurity_decrease=0.0, min_impurity_split=None,\n",
       "                       min_samples_leaf=3, min_samples_split=13,\n",
       "                       min_weight_fraction_leaf=0.0, presort='deprecated',\n",
       "                       random_state=None, splitter='best')"
      ]
     },
     "execution_count": 434,
     "metadata": {},
     "output_type": "execute_result"
    }
   ],
   "source": [
    "clf1.fit(X_train, y_train)"
   ]
  },
  {
   "cell_type": "code",
   "execution_count": 435,
   "metadata": {
    "collapsed": true
   },
   "outputs": [],
   "source": [
    "y_pred1=clf1.predict(X_test)"
   ]
  },
  {
   "cell_type": "code",
   "execution_count": 436,
   "metadata": {},
   "outputs": [
    {
     "data": {
      "text/plain": [
       "0.7921348314606742"
      ]
     },
     "execution_count": 436,
     "metadata": {},
     "output_type": "execute_result"
    }
   ],
   "source": [
    "accuracy_score(y_test,y_pred1)"
   ]
  },
  {
   "cell_type": "code",
   "execution_count": 419,
   "metadata": {},
   "outputs": [
    {
     "data": {
      "text/plain": [
       "DecisionTreeClassifier(ccp_alpha=0.0, class_weight=None, criterion='gini',\n",
       "                       max_depth=7, max_features='log2', max_leaf_nodes=None,\n",
       "                       min_impurity_decrease=0.0, min_impurity_split=None,\n",
       "                       min_samples_leaf=1, min_samples_split=5,\n",
       "                       min_weight_fraction_leaf=0.0, presort='deprecated',\n",
       "                       random_state=None, splitter='best')"
      ]
     },
     "execution_count": 419,
     "metadata": {},
     "output_type": "execute_result"
    }
   ],
   "source": [
    "clf2.fit(X, Y)"
   ]
  },
  {
   "cell_type": "code",
   "execution_count": 420,
   "metadata": {
    "collapsed": true
   },
   "outputs": [],
   "source": [
    "y_pred2=clf2.predict(X_test)"
   ]
  },
  {
   "cell_type": "code",
   "execution_count": 421,
   "metadata": {},
   "outputs": [
    {
     "data": {
      "text/plain": [
       "0.8539325842696629"
      ]
     },
     "execution_count": 421,
     "metadata": {},
     "output_type": "execute_result"
    }
   ],
   "source": [
    "accuracy_score(y_test,y_pred2)"
   ]
  },
  {
   "cell_type": "code",
   "execution_count": 42,
   "metadata": {},
   "outputs": [
    {
     "data": {
      "text/plain": [
       "143"
      ]
     },
     "execution_count": 42,
     "metadata": {},
     "output_type": "execute_result"
    }
   ],
   "source": [
    "len(y_pred2)"
   ]
  },
  {
   "cell_type": "code",
   "execution_count": null,
   "metadata": {
    "collapsed": true
   },
   "outputs": [],
   "source": []
  },
  {
   "cell_type": "code",
   "execution_count": null,
   "metadata": {
    "collapsed": true
   },
   "outputs": [],
   "source": []
  },
  {
   "cell_type": "markdown",
   "metadata": {},
   "source": [
    "# predicting using decision trees"
   ]
  },
  {
   "cell_type": "code",
   "execution_count": 403,
   "metadata": {
    "collapsed": true
   },
   "outputs": [],
   "source": [
    "test=pd.read_csv('test.csv')"
   ]
  },
  {
   "cell_type": "code",
   "execution_count": 404,
   "metadata": {},
   "outputs": [],
   "source": [
    "copy=test"
   ]
  },
  {
   "cell_type": "code",
   "execution_count": 405,
   "metadata": {},
   "outputs": [],
   "source": [
    "copy=copy.drop(columns=['PassengerId','Name','Ticket','Cabin'])"
   ]
  },
  {
   "cell_type": "code",
   "execution_count": 406,
   "metadata": {},
   "outputs": [
    {
     "name": "stdout",
     "output_type": "stream",
     "text": [
      "<class 'pandas.core.frame.DataFrame'>\n",
      "RangeIndex: 418 entries, 0 to 417\n",
      "Data columns (total 7 columns):\n",
      "Pclass      418 non-null int64\n",
      "Sex         418 non-null object\n",
      "Age         332 non-null float64\n",
      "SibSp       418 non-null int64\n",
      "Parch       418 non-null int64\n",
      "Fare        417 non-null float64\n",
      "Embarked    418 non-null object\n",
      "dtypes: float64(2), int64(3), object(2)\n",
      "memory usage: 22.9+ KB\n"
     ]
    }
   ],
   "source": [
    "copy.info()"
   ]
  },
  {
   "cell_type": "code",
   "execution_count": 407,
   "metadata": {
    "collapsed": true
   },
   "outputs": [],
   "source": [
    "mean_age=copy['Age'].median()\n",
    "mean_age\n",
    "copy['Age']=copy['Age'].replace(np.nan,mean_age)\n",
    "mean_fare=copy['Fare'].median()\n",
    "mean_age\n",
    "copy['Fare']=copy['Fare'].replace(np.nan,mean_fare)"
   ]
  },
  {
   "cell_type": "code",
   "execution_count": 408,
   "metadata": {
    "collapsed": true
   },
   "outputs": [],
   "source": [
    "num=copy[['Age','Fare']]\n",
    "scaler=StandardScaler()\n",
    "b=scaler.fit_transform(num)"
   ]
  },
  {
   "cell_type": "code",
   "execution_count": 409,
   "metadata": {
    "collapsed": true
   },
   "outputs": [],
   "source": [
    "copy['Age']=b[:,0]\n",
    "copy['Fare']=b[:,1]"
   ]
  },
  {
   "cell_type": "code",
   "execution_count": 410,
   "metadata": {
    "collapsed": true
   },
   "outputs": [],
   "source": [
    "copy['Sex']=copy['Sex'].replace('male',0)\n",
    "copy['Sex']=copy['Sex'].replace('female',1)\n",
    "copy['Embarked']=copy['Embarked'].replace('S',0)\n",
    "copy['Embarked']=copy['Embarked'].replace('C',1)\n",
    "copy['Embarked']=copy['Embarked'].replace('Q',2)"
   ]
  },
  {
   "cell_type": "code",
   "execution_count": 411,
   "metadata": {
    "collapsed": true
   },
   "outputs": [],
   "source": [
    "copy=copy.astype({'Pclass':'category','Sex':'category','SibSp':'category','Parch':'category','Embarked':'category','Age':'float','Fare': 'float'})"
   ]
  },
  {
   "cell_type": "code",
   "execution_count": 412,
   "metadata": {},
   "outputs": [],
   "source": [
    "pred=clf1.predict(copy)"
   ]
  },
  {
   "cell_type": "code",
   "execution_count": 413,
   "metadata": {
    "collapsed": true
   },
   "outputs": [],
   "source": [
    "final=pd.DataFrame(list(zip(test['PassengerId'].values.tolist(),pred)), columns=['PassengerId','Survived'])"
   ]
  },
  {
   "cell_type": "code",
   "execution_count": 414,
   "metadata": {
    "collapsed": true
   },
   "outputs": [],
   "source": [
    "final=final.set_index('PassengerId')"
   ]
  },
  {
   "cell_type": "code",
   "execution_count": 415,
   "metadata": {},
   "outputs": [],
   "source": [
    "final.to_csv('titanic_prediction_decisiontree.csv')"
   ]
  },
  {
   "cell_type": "markdown",
   "metadata": {},
   "source": [
    "# using knn"
   ]
  },
  {
   "cell_type": "code",
   "execution_count": 364,
   "metadata": {},
   "outputs": [
    {
     "data": {
      "text/plain": [
       "26.664583251946766"
      ]
     },
     "execution_count": 364,
     "metadata": {},
     "output_type": "execute_result"
    }
   ],
   "source": [
    "np.sqrt(X_train.shape[0])"
   ]
  },
  {
   "cell_type": "code",
   "execution_count": 366,
   "metadata": {},
   "outputs": [
    {
     "ename": "ImportError",
     "evalue": "cannot import name 'kNeighborsClassifier'",
     "output_type": "error",
     "traceback": [
      "\u001b[0;31m---------------------------------------------------------------------------\u001b[0m",
      "\u001b[0;31mImportError\u001b[0m                               Traceback (most recent call last)",
      "\u001b[0;32m<ipython-input-366-b385a9a250e9>\u001b[0m in \u001b[0;36m<module>\u001b[0;34m()\u001b[0m\n\u001b[0;32m----> 1\u001b[0;31m \u001b[0;32mfrom\u001b[0m \u001b[0msklearn\u001b[0m\u001b[0;34m.\u001b[0m\u001b[0mneighbors\u001b[0m \u001b[0;32mimport\u001b[0m \u001b[0mkNeighborsClassifier\u001b[0m\u001b[0;34m\u001b[0m\u001b[0m\n\u001b[0m",
      "\u001b[0;31mImportError\u001b[0m: cannot import name 'kNeighborsClassifier'"
     ]
    }
   ],
   "source": [
    "from sklearn.neighbors import KNeighborsClassifier"
   ]
  },
  {
   "cell_type": "code",
   "execution_count": 385,
   "metadata": {},
   "outputs": [],
   "source": [
    "accuracy=[]\n",
    "from sklearn.neighbors import KNeighborsClassifier\n",
    "for i in range(1,50):\n",
    "    knn=KNeighborsClassifier(n_neighbors=i)\n",
    "    knn.fit(X,Y)\n",
    "    accuracy.append(accuracy_score(y_test,knn.predict(X_test)))"
   ]
  },
  {
   "cell_type": "code",
   "execution_count": 386,
   "metadata": {},
   "outputs": [
    {
     "data": {
      "text/plain": [
       "[0.9606741573033708,\n",
       " 0.9213483146067416,\n",
       " 0.9157303370786517,\n",
       " 0.8707865168539326,\n",
       " 0.8651685393258427,\n",
       " 0.8595505617977528,\n",
       " 0.8539325842696629,\n",
       " 0.8314606741573034,\n",
       " 0.8314606741573034,\n",
       " 0.8146067415730337,\n",
       " 0.8202247191011236,\n",
       " 0.797752808988764,\n",
       " 0.8202247191011236,\n",
       " 0.7921348314606742,\n",
       " 0.8146067415730337,\n",
       " 0.8033707865168539,\n",
       " 0.8314606741573034,\n",
       " 0.8314606741573034,\n",
       " 0.8370786516853933,\n",
       " 0.8202247191011236,\n",
       " 0.8202247191011236,\n",
       " 0.8202247191011236,\n",
       " 0.8202247191011236,\n",
       " 0.8146067415730337,\n",
       " 0.8089887640449438,\n",
       " 0.8089887640449438,\n",
       " 0.8089887640449438,\n",
       " 0.8202247191011236,\n",
       " 0.8202247191011236,\n",
       " 0.8202247191011236,\n",
       " 0.8258426966292135,\n",
       " 0.8146067415730337,\n",
       " 0.8202247191011236,\n",
       " 0.8146067415730337,\n",
       " 0.8146067415730337,\n",
       " 0.8033707865168539,\n",
       " 0.8089887640449438,\n",
       " 0.7921348314606742,\n",
       " 0.7921348314606742,\n",
       " 0.7865168539325843,\n",
       " 0.797752808988764,\n",
       " 0.7865168539325843,\n",
       " 0.7865168539325843,\n",
       " 0.7808988764044944,\n",
       " 0.7808988764044944,\n",
       " 0.7808988764044944,\n",
       " 0.7865168539325843,\n",
       " 0.7921348314606742,\n",
       " 0.7808988764044944]"
      ]
     },
     "execution_count": 386,
     "metadata": {},
     "output_type": "execute_result"
    }
   ],
   "source": [
    "accuracy"
   ]
  },
  {
   "cell_type": "code",
   "execution_count": 387,
   "metadata": {},
   "outputs": [
    {
     "data": {
      "text/plain": [
       "[<matplotlib.lines.Line2D at 0x1a1c956400>]"
      ]
     },
     "execution_count": 387,
     "metadata": {},
     "output_type": "execute_result"
    },
    {
     "data": {
      "image/png": "[encoded data removed]",
      "text/plain": [
       "<Figure size 432x288 with 1 Axes>"
      ]
     },
     "metadata": {},
     "output_type": "display_data"
    }
   ],
   "source": [
    "plt.plot(range(1,50),accuracy)"
   ]
  },
  {
   "cell_type": "code",
   "execution_count": 388,
   "metadata": {},
   "outputs": [
    {
     "data": {
      "text/plain": [
       "0.9606741573033708"
      ]
     },
     "execution_count": 388,
     "metadata": {},
     "output_type": "execute_result"
    }
   ],
   "source": [
    "max(accuracy)"
   ]
  },
  {
   "cell_type": "code",
   "execution_count": 389,
   "metadata": {},
   "outputs": [
    {
     "data": {
      "text/plain": [
       "0"
      ]
     },
     "execution_count": 389,
     "metadata": {},
     "output_type": "execute_result"
    }
   ],
   "source": [
    "accuracy.index(max(accuracy))"
   ]
  },
  {
   "cell_type": "code",
   "execution_count": 394,
   "metadata": {},
   "outputs": [
    {
     "data": {
      "text/plain": [
       "KNeighborsClassifier(algorithm='auto', leaf_size=30, metric='minkowski',\n",
       "                     metric_params=None, n_jobs=None, n_neighbors=15, p=2,\n",
       "                     weights='uniform')"
      ]
     },
     "execution_count": 394,
     "metadata": {},
     "output_type": "execute_result"
    }
   ],
   "source": [
    "knn=KNeighborsClassifier(n_neighbors=15)\n",
    "knn.fit(X_train,y_train)"
   ]
  },
  {
   "cell_type": "code",
   "execution_count": 395,
   "metadata": {},
   "outputs": [
    {
     "data": {
      "text/plain": [
       "0.8202247191011236"
      ]
     },
     "execution_count": 395,
     "metadata": {},
     "output_type": "execute_result"
    }
   ],
   "source": [
    "accuracy_score(y_test,knn.predict(X_test))"
   ]
  },
  {
   "cell_type": "code",
   "execution_count": 396,
   "metadata": {
    "collapsed": true
   },
   "outputs": [],
   "source": [
    "predknn=knn.predict(copy)"
   ]
  },
  {
   "cell_type": "code",
   "execution_count": 397,
   "metadata": {},
   "outputs": [],
   "source": [
    "kfinal=pd.DataFrame(list(zip(test['PassengerId'].values.tolist(),pred)), columns=['PassengerId','Survived'])"
   ]
  },
  {
   "cell_type": "code",
   "execution_count": 398,
   "metadata": {
    "collapsed": true
   },
   "outputs": [],
   "source": [
    "kfinal=kfinal.set_index('PassengerId')"
   ]
  },
  {
   "cell_type": "code",
   "execution_count": 399,
   "metadata": {
    "collapsed": true
   },
   "outputs": [],
   "source": [
    "kfinal.to_csv('titanic_prediction_knn.csv')"
   ]
  },
  {
   "cell_type": "code",
   "execution_count": null,
   "metadata": {
    "collapsed": true
   },
   "outputs": [],
   "source": []
  }
 ],
 "metadata": {
  "kernelspec": {
   "display_name": "Python [conda env:anaconda]",
   "language": "python",
   "name": "conda-env-anaconda-py"
  },
  "language_info": {
   "codemirror_mode": {
    "name": "ipython",
    "version": 3
   },
   "file_extension": ".py",
   "mimetype": "text/x-python",
   "name": "python",
   "nbconvert_exporter": "python",
   "pygments_lexer": "ipython3",
   "version": "3.5.6"
  }
 },
 "nbformat": 4,
 "nbformat_minor": 2
}
